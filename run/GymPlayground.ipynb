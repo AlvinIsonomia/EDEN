{
 "cells": [
  {
   "cell_type": "markdown",
   "id": "a8d3906a-1a47-4478-b892-4e7af7784532",
   "metadata": {},
   "source": [
    "# GymPlayground\n",
    "## TODO List\n",
    "- [ ] 跑通 EDEN dataset\n",
    "    - [x] node classification\n",
    "    - [ ] edge prediction\n",
    "    - [ ] graph classification\n",
    "\n",
    "```shell\n",
    "python main.py --cfg configs/PROTEINS/gcn_graph.yaml --repeat 10\n",
    "```"
   ]
  },
  {
   "cell_type": "code",
   "execution_count": 1,
   "id": "4276a472-e7f5-4a7d-8da0-9147abf15a92",
   "metadata": {},
   "outputs": [],
   "source": [
    "import graphgym.register as register"
   ]
  },
  {
   "cell_type": "code",
   "execution_count": null,
   "id": "bf1e5644-f0bc-414a-8abd-e95067d8e262",
   "metadata": {},
   "outputs": [],
   "source": []
  },
  {
   "cell_type": "code",
   "execution_count": 26,
   "id": "3d1bf22a-1b0e-47b0-b941-e9f3c4860afe",
   "metadata": {},
   "outputs": [
    {
     "name": "stdout",
     "output_type": "stream",
     "text": [
      "{'epoch': 99, 'loss': 0.6441, 'loss_std': 0.0812, 'lr': 0.0, 'lr_std': 0.0, 'params': 49671.0, 'params_std': 0.0, 'time_iter': 0.0158, 'time_iter_std': 0.0021, 'accuracy': 0.8752, 'accuracy_std': 0.005}\n",
      "{'epoch': 99, 'loss': 0.5367, 'loss_std': 0.0972, 'lr': 0.0, 'lr_std': 0.0, 'params': 49671.0, 'params_std': 0.0, 'time_iter': 0.0164, 'time_iter_std': 0.0033, 'accuracy': 0.896, 'accuracy_std': 0.0109}\n"
     ]
    }
   ],
   "source": [
    "import json\n",
    "import os\n",
    "\n",
    "with open(os.path.join(\"results\",\"Cora\",\"gcn_baseline\", \"agg\", \"val\", \"best.json\"),'r') as load_f:\n",
    "    load_dict = json.load(load_f)\n",
    "    print(load_dict)\n",
    "    \n",
    "with open(os.path.join(\"results\",\"Cora\",\"gcn_baseline\", \"agg\", \"test\", \"best.json\"),'r') as load_f:\n",
    "    load_dict = json.load(load_f)\n",
    "    print(load_dict)"
   ]
  },
  {
   "cell_type": "code",
   "execution_count": 27,
   "id": "5810581a-4bd3-494b-aafd-b16d4e3534e6",
   "metadata": {},
   "outputs": [
    {
     "name": "stdout",
     "output_type": "stream",
     "text": [
      "{'epoch': 29, 'loss': 0.8109, 'loss_std': 0.0807, 'lr': 0.0, 'lr_std': 0.0, 'params': 52743.0, 'params_std': 0.0, 'time_iter': 0.0092, 'time_iter_std': 0.002, 'accuracy': 0.8748, 'accuracy_std': 0.0082}\n",
      "{'epoch': 29, 'loss': 0.8306, 'loss_std': 0.0816, 'lr': 0.0, 'lr_std': 0.0, 'params': 52743.0, 'params_std': 0.0, 'time_iter': 0.0098, 'time_iter_std': 0.0016, 'accuracy': 0.8735, 'accuracy_std': 0.0078}\n"
     ]
    }
   ],
   "source": [
    "with open(os.path.join(\"results\",\"Cora\",\"sage_baseline\", \"agg\", \"val\", \"best.json\"),'r') as load_f:\n",
    "    load_dict = json.load(load_f)\n",
    "    print(load_dict)\n",
    "with open(os.path.join(\"results\",\"Cora\",\"sage_baseline\", \"agg\", \"test\", \"best.json\"),'r') as load_f:\n",
    "    load_dict = json.load(load_f)\n",
    "    print(load_dict)"
   ]
  },
  {
   "cell_type": "code",
   "execution_count": 28,
   "id": "a1c0ee65-0877-461a-869a-da4f2162f485",
   "metadata": {},
   "outputs": [
    {
     "name": "stdout",
     "output_type": "stream",
     "text": [
      "{'epoch': 39, 'loss': 0.7524, 'loss_std': 0.0726, 'lr': 0.0, 'lr_std': 0.0, 'params': 49863.0, 'params_std': 0.0, 'time_iter': 0.0145, 'time_iter_std': 0.0047, 'accuracy': 0.866, 'accuracy_std': 0.0095}\n",
      "{'epoch': 39, 'loss': 0.7968, 'loss_std': 0.0662, 'lr': 0.0, 'lr_std': 0.0, 'params': 49863.0, 'params_std': 0.0, 'time_iter': 0.0148, 'time_iter_std': 0.0035, 'accuracy': 0.8482, 'accuracy_std': 0.0108}\n"
     ]
    }
   ],
   "source": [
    "with open(os.path.join(\"results\",\"Cora\",\"gat_baseline\", \"agg\", \"val\", \"best.json\"),'r') as load_f:\n",
    "    load_dict = json.load(load_f)\n",
    "    print(load_dict)\n",
    "with open(os.path.join(\"results\",\"Cora\",\"gat_baseline\", \"agg\", \"test\", \"best.json\"),'r') as load_f:\n",
    "    load_dict = json.load(load_f)\n",
    "    print(load_dict)"
   ]
  },
  {
   "cell_type": "code",
   "execution_count": 29,
   "id": "57e06151-9d51-4cf4-ae9a-42019551a8c7",
   "metadata": {},
   "outputs": [
    {
     "name": "stdout",
     "output_type": "stream",
     "text": [
      "{'epoch': 69, 'loss': 0.6241, 'loss_std': 0.0397, 'lr': 0.0, 'lr_std': 0.0, 'params': 52935.0, 'params_std': 0.0, 'time_iter': 0.0118, 'time_iter_std': 0.0028, 'accuracy': 0.8793, 'accuracy_std': 0.0088}\n",
      "{'epoch': 69, 'loss': 0.622, 'loss_std': 0.0324, 'lr': 0.0, 'lr_std': 0.0, 'params': 52935.0, 'params_std': 0.0, 'time_iter': 0.0101, 'time_iter_std': 0.0013, 'accuracy': 0.8724, 'accuracy_std': 0.0089}\n"
     ]
    }
   ],
   "source": [
    "with open(os.path.join(\"results\",\"Cora\",\"gin_baseline\", \"agg\", \"val\", \"best.json\"),'r') as load_f:\n",
    "    load_dict = json.load(load_f)\n",
    "    print(load_dict)\n",
    "with open(os.path.join(\"results\",\"Cora\",\"gin_baseline\", \"agg\", \"test\", \"best.json\"),'r') as load_f:\n",
    "    load_dict = json.load(load_f)\n",
    "    print(load_dict)"
   ]
  },
  {
   "cell_type": "markdown",
   "id": "6af5fc05-0072-4c05-a4f9-1802c0db2226",
   "metadata": {},
   "source": [
    "# CiteSeer\n",
    "## GCN"
   ]
  },
  {
   "cell_type": "code",
   "execution_count": 11,
   "id": "ee509702-43ff-4cc7-8ba8-1c3faa9953e6",
   "metadata": {},
   "outputs": [
    {
     "name": "stdout",
     "output_type": "stream",
     "text": [
      "=========================== Validation ============================\n",
      "{'epoch': 29, 'loss': 0.9208, 'loss_std': 0.0245, 'lr': 0.0, 'lr_std': 0.0, 'params': 122150.0, 'params_std': 0.0, 'time_iter': 0.0392, 'time_iter_std': 0.0032, 'accuracy': 0.7738, 'accuracy_std': 0.0076}\n",
      "=========================== test ============================\n",
      "{'epoch': 29, 'loss': 0.9915, 'loss_std': 0.0173, 'lr': 0.0, 'lr_std': 0.0, 'params': 122150.0, 'params_std': 0.0, 'time_iter': 0.0367, 'time_iter_std': 0.0028, 'accuracy': 0.7093, 'accuracy_std': 0.0068}\n"
     ]
    }
   ],
   "source": [
    "import json\n",
    "import os\n",
    "print(\"=========================== Validation ============================\")\n",
    "with open(os.path.join(\"results\",\"CiteSeer\",\"gcn_baseline\", \"agg\", \"val\", \"best.json\"),'r') as load_f:\n",
    "    load_dict = json.load(load_f)\n",
    "    print(load_dict)\n",
    "print(\"=========================== test ============================\")\n",
    "with open(os.path.join(\"results\",\"CiteSeer\",\"gcn_baseline\", \"agg\", \"test\", \"best.json\"),'r') as load_f:\n",
    "    load_dict = json.load(load_f)\n",
    "    print(load_dict)"
   ]
  },
  {
   "cell_type": "markdown",
   "id": "f74237a6-fdd5-4077-bf35-9c6c1a11cf75",
   "metadata": {},
   "source": [
    "## SAGE"
   ]
  },
  {
   "cell_type": "code",
   "execution_count": 12,
   "id": "59bb6458-6d18-4ff8-beae-ec6cd9ae533d",
   "metadata": {},
   "outputs": [
    {
     "name": "stdout",
     "output_type": "stream",
     "text": [
      "=========================== Validation ============================\n",
      "{'epoch': 29, 'loss': 0.9765, 'loss_std': 0.0711, 'lr': 0.0, 'lr_std': 0.0, 'params': 122342.0, 'params_std': 0.0, 'time_iter': 0.0349, 'time_iter_std': 0.005, 'accuracy': 0.7672, 'accuracy_std': 0.0114}\n",
      "=========================== test ============================\n",
      "{'epoch': 29, 'loss': 1.0372, 'loss_std': 0.0638, 'lr': 0.0, 'lr_std': 0.0, 'params': 122342.0, 'params_std': 0.0, 'time_iter': 0.0335, 'time_iter_std': 0.004, 'accuracy': 0.7329, 'accuracy_std': 0.0122}\n"
     ]
    }
   ],
   "source": [
    "print(\"=========================== Validation ============================\")\n",
    "with open(os.path.join(\"results\",\"CiteSeer\",\"sage_baseline\", \"agg\", \"val\", \"best.json\"),'r') as load_f:\n",
    "    load_dict = json.load(load_f)\n",
    "    print(load_dict)\n",
    "print(\"=========================== test ============================\")\n",
    "with open(os.path.join(\"results\",\"CiteSeer\",\"sage_baseline\", \"agg\", \"test\", \"best.json\"),'r') as load_f:\n",
    "    load_dict = json.load(load_f)\n",
    "    print(load_dict)"
   ]
  },
  {
   "cell_type": "markdown",
   "id": "b9b45b6d-4aec-4396-9f24-7c7cb8953bca",
   "metadata": {},
   "source": [
    "## GAT"
   ]
  },
  {
   "cell_type": "code",
   "execution_count": 9,
   "id": "df5c79f1-5602-41e2-9417-ffd2062fad79",
   "metadata": {},
   "outputs": [
    {
     "name": "stdout",
     "output_type": "stream",
     "text": [
      "=========================== Validation ============================\n",
      "=========================== Validation ============================\n",
      "{'epoch': 39, 'loss': 0.998, 'loss_std': 0.0667, 'lr': 0.0, 'lr_std': 0.0, 'params': 122342.0, 'params_std': 0.0, 'time_iter': 0.0387, 'time_iter_std': 0.0079, 'accuracy': 0.7358, 'accuracy_std': 0.0069}\n",
      "=========================== test ============================\n",
      "{'epoch': 39, 'loss': 1.0044, 'loss_std': 0.0537, 'lr': 0.0, 'lr_std': 0.0, 'params': 122342.0, 'params_std': 0.0, 'time_iter': 0.0355, 'time_iter_std': 0.0052, 'accuracy': 0.7188, 'accuracy_std': 0.0111}\n"
     ]
    }
   ],
   "source": [
    "print(\"=========================== Validation ============================\")\n",
    "\n",
    "print(\"=========================== Validation ============================\")\n",
    "with open(os.path.join(\"results\",\"CiteSeer\",\"gat_baseline\", \"agg\", \"val\", \"best.json\"),'r') as load_f:\n",
    "    load_dict = json.load(load_f)\n",
    "    print(load_dict)\n",
    "print(\"=========================== test ============================\")\n",
    "with open(os.path.join(\"results\",\"CiteSeer\",\"gat_baseline\", \"agg\", \"test\", \"best.json\"),'r') as load_f:\n",
    "    load_dict = json.load(load_f)\n",
    "    print(load_dict)"
   ]
  },
  {
   "cell_type": "markdown",
   "id": "0e0dcd54-b18d-4f65-b58d-38ec4a876970",
   "metadata": {},
   "source": [
    "## GIN"
   ]
  },
  {
   "cell_type": "code",
   "execution_count": 13,
   "id": "467d3097-5960-45f4-9d14-7287b79c3f57",
   "metadata": {},
   "outputs": [
    {
     "name": "stdout",
     "output_type": "stream",
     "text": [
      "=========================== Validation ============================\n",
      "{'epoch': 39, 'loss': 0.9154, 'loss_std': 0.0342, 'lr': 0.0, 'lr_std': 0.0, 'params': 125318.0, 'params_std': 0.0, 'time_iter': 0.035, 'time_iter_std': 0.0043, 'accuracy': 0.7699, 'accuracy_std': 0.006}\n",
      "=========================== test ============================\n",
      "{'epoch': 39, 'loss': 1.0186, 'loss_std': 0.0373, 'lr': 0.0, 'lr_std': 0.0, 'params': 125318.0, 'params_std': 0.0, 'time_iter': 0.0332, 'time_iter_std': 0.002, 'accuracy': 0.7171, 'accuracy_std': 0.0104}\n"
     ]
    }
   ],
   "source": [
    "print(\"=========================== Validation ============================\")\n",
    "with open(os.path.join(\"results\",\"CiteSeer\",\"gin_baseline\", \"agg\", \"val\", \"best.json\"),'r') as load_f:\n",
    "    load_dict = json.load(load_f)\n",
    "    print(load_dict)\n",
    "print(\"=========================== test ============================\")\n",
    "with open(os.path.join(\"results\",\"CiteSeer\",\"gin_baseline\", \"agg\", \"test\", \"best.json\"),'r') as load_f:\n",
    "    load_dict = json.load(load_f)\n",
    "    print(load_dict)"
   ]
  },
  {
   "cell_type": "code",
   "execution_count": null,
   "id": "0da6821d-b36c-483a-88f9-167628f2a7a7",
   "metadata": {},
   "outputs": [],
   "source": []
  },
  {
   "cell_type": "markdown",
   "id": "018af85a-fe0a-4f14-8f92-3b98afeb80f6",
   "metadata": {},
   "source": [
    "# ENZYMES EDGE\n",
    "## GCN"
   ]
  },
  {
   "cell_type": "code",
   "execution_count": 66,
   "id": "162614a2-d825-4ec8-9670-353539a37c1e",
   "metadata": {},
   "outputs": [
    {
     "name": "stdout",
     "output_type": "stream",
     "text": [
      "=========================== Validation ============================\n",
      "0.8638 0.0016\n",
      "=========================== test ============================\n",
      "0.8562 0.0013\n"
     ]
    }
   ],
   "source": [
    "import json\n",
    "import os\n",
    "print(\"=========================== Validation ============================\")\n",
    "with open(os.path.join(\"results\",\"ENZYMES\",\"gcn_edge\", \"agg\", \"val\", \"best.json\"),'r') as load_f:\n",
    "    load_dict = json.load(load_f)\n",
    "    print(load_dict['auc'], load_dict['auc_std'])\n",
    "\n",
    "print(\"=========================== test ============================\")\n",
    "with open(os.path.join(\"results\",\"ENZYMES\",\"gcn_edge\", \"agg\", \"test\", \"best.json\"),'r') as load_f:\n",
    "    load_dict = json.load(load_f)\n",
    "    print(load_dict['auc'], load_dict['auc_std'])\n"
   ]
  },
  {
   "cell_type": "markdown",
   "id": "8f357f8b-56fe-4bf9-9106-fd6c5334de39",
   "metadata": {},
   "source": [
    "## SAGE"
   ]
  },
  {
   "cell_type": "code",
   "execution_count": 67,
   "id": "dbb144eb-e317-44b9-a003-c057de0f36ea",
   "metadata": {},
   "outputs": [
    {
     "name": "stdout",
     "output_type": "stream",
     "text": [
      "=========================== Validation ============================\n",
      "0.8742 0.0013\n",
      "=========================== test ============================\n",
      "0.8709 0.0013\n"
     ]
    }
   ],
   "source": [
    "print(\"=========================== Validation ============================\")\n",
    "with open(os.path.join(\"results\",\"ENZYMES\",\"sage_edge\", \"agg\", \"val\", \"best.json\"),'r') as load_f:\n",
    "    load_dict = json.load(load_f)\n",
    "    print(load_dict['auc'], load_dict['auc_std'])\n",
    "\n",
    "print(\"=========================== test ============================\")\n",
    "with open(os.path.join(\"results\",\"ENZYMES\",\"sage_edge\", \"agg\", \"test\", \"best.json\"),'r') as load_f:\n",
    "    load_dict = json.load(load_f)\n",
    "    print(load_dict['auc'], load_dict['auc_std'])\n"
   ]
  },
  {
   "cell_type": "markdown",
   "id": "ebf7b161-4438-4dcc-8c77-ad2a70a5110d",
   "metadata": {},
   "source": [
    "## GAT"
   ]
  },
  {
   "cell_type": "code",
   "execution_count": 69,
   "id": "7f11fa33-7c90-42b6-9340-b36ff391a977",
   "metadata": {},
   "outputs": [
    {
     "name": "stdout",
     "output_type": "stream",
     "text": [
      "=========================== Validation ============================\n",
      "0.8481 0.0039\n",
      "=========================== test ============================\n",
      "0.8622 0.0039\n"
     ]
    }
   ],
   "source": [
    "\n",
    "print(\"=========================== Validation ============================\")\n",
    "with open(os.path.join(\"results\",\"ENZYMES\",\"gat_edge\", \"agg\", \"val\", \"best.json\"),'r') as load_f:\n",
    "    load_dict = json.load(load_f)\n",
    "    print(load_dict['auc'], load_dict['auc_std'])\n",
    "\n",
    "print(\"=========================== test ============================\")\n",
    "with open(os.path.join(\"results\",\"ENZYMES\",\"gat_edge\", \"agg\", \"test\", \"best.json\"),'r') as load_f:\n",
    "    load_dict = json.load(load_f)\n",
    "    print(load_dict['auc'], load_dict['auc_std'])\n"
   ]
  },
  {
   "cell_type": "markdown",
   "id": "20cdd8d4-6d0f-4b7a-8f63-de39f8f7a426",
   "metadata": {},
   "source": [
    "## GIN"
   ]
  },
  {
   "cell_type": "code",
   "execution_count": 68,
   "id": "30148723-4e9d-4aad-897b-680a69469fae",
   "metadata": {},
   "outputs": [
    {
     "name": "stdout",
     "output_type": "stream",
     "text": [
      "=========================== Validation ============================\n",
      "0.8569 0.0044\n",
      "=========================== test ============================\n",
      "0.8598 0.0056\n"
     ]
    }
   ],
   "source": [
    "print(\"=========================== Validation ============================\")\n",
    "with open(os.path.join(\"results\",\"ENZYMES\",\"gin_edge\", \"agg\", \"val\", \"best.json\"),'r') as load_f:\n",
    "    load_dict = json.load(load_f)\n",
    "    print(load_dict['auc'], load_dict['auc_std'])\n",
    "\n",
    "print(\"=========================== test ============================\")\n",
    "with open(os.path.join(\"results\",\"ENZYMES\",\"gin_edge\", \"agg\", \"test\", \"best.json\"),'r') as load_f:\n",
    "    load_dict = json.load(load_f)\n",
    "    print(load_dict['auc'], load_dict['auc_std'])\n"
   ]
  },
  {
   "cell_type": "markdown",
   "id": "e18193aa-1c6a-490c-ba63-a1d7fee33eec",
   "metadata": {},
   "source": [
    "# PROTEINS\n",
    "## GCN"
   ]
  },
  {
   "cell_type": "code",
   "execution_count": 93,
   "id": "38167753-29ef-471f-80d5-ec5534838046",
   "metadata": {},
   "outputs": [
    {
     "name": "stdout",
     "output_type": "stream",
     "text": [
      "=========================== Validation ============================\n",
      "0.8702 0.0413\n",
      "=========================== test ============================\n",
      "0.8812 0.0399\n"
     ]
    }
   ],
   "source": [
    "import json\n",
    "import os\n",
    "print(\"=========================== Validation ============================\")\n",
    "with open(os.path.join(\"results\",\"PROTEINS\",\"gcn_edge\", \"agg\", \"val\", \"best.json\"),'r') as load_f:\n",
    "    load_dict = json.load(load_f)\n",
    "    print(load_dict['auc'], load_dict['auc_std'])\n",
    "\n",
    "print(\"=========================== test ============================\")\n",
    "with open(os.path.join(\"results\",\"PROTEINS\",\"gcn_edge\", \"agg\", \"test\", \"best.json\"),'r') as load_f:\n",
    "    load_dict = json.load(load_f)\n",
    "    print(load_dict['auc'], load_dict['auc_std'])\n"
   ]
  },
  {
   "cell_type": "markdown",
   "id": "4f6560fa-8213-4130-828d-5867a6547f43",
   "metadata": {},
   "source": [
    "## SAGE"
   ]
  },
  {
   "cell_type": "code",
   "execution_count": 94,
   "id": "7ccccefb-9939-4de6-9e44-b7fc139eaf6f",
   "metadata": {},
   "outputs": [
    {
     "name": "stdout",
     "output_type": "stream",
     "text": [
      "=========================== Validation ============================\n",
      "0.7914 0.1696\n",
      "=========================== test ============================\n",
      "0.7946 0.1721\n"
     ]
    }
   ],
   "source": [
    "import json\n",
    "import os\n",
    "print(\"=========================== Validation ============================\")\n",
    "with open(os.path.join(\"results\",\"PROTEINS\",\"sage_edge\", \"agg\", \"val\", \"best.json\"),'r') as load_f:\n",
    "    load_dict = json.load(load_f)\n",
    "    print(load_dict['auc'], load_dict['auc_std'])\n",
    "\n",
    "print(\"=========================== test ============================\")\n",
    "with open(os.path.join(\"results\",\"PROTEINS\",\"sage_edge\", \"agg\", \"test\", \"best.json\"),'r') as load_f:\n",
    "    load_dict = json.load(load_f)\n",
    "    print(load_dict['auc'], load_dict['auc_std'])\n"
   ]
  },
  {
   "cell_type": "markdown",
   "id": "b00898cb-75da-49fc-ad13-3d8b5c05211a",
   "metadata": {},
   "source": [
    "## GAT"
   ]
  },
  {
   "cell_type": "code",
   "execution_count": 96,
   "id": "bf89414e-6df1-4533-9c22-11b3558f6001",
   "metadata": {},
   "outputs": [
    {
     "name": "stdout",
     "output_type": "stream",
     "text": [
      "=========================== Validation ============================\n",
      "0.8759 0.003\n",
      "=========================== test ============================\n",
      "0.7946 0.1721\n"
     ]
    }
   ],
   "source": [
    "import json\n",
    "import os\n",
    "print(\"=========================== Validation ============================\")\n",
    "with open(os.path.join(\"results\",\"PROTEINS\",\"gat_edge\", \"agg\", \"val\", \"best.json\"),'r') as load_f:\n",
    "    load_dict = json.load(load_f)\n",
    "    print(load_dict['auc'], load_dict['auc_std'])\n",
    "\n",
    "print(\"=========================== test ============================\")\n",
    "with open(os.path.join(\"results\",\"PROTEINS\",\"sage_edge\", \"agg\", \"test\", \"best.json\"),'r') as load_f:\n",
    "    load_dict = json.load(load_f)\n",
    "    print(load_dict['auc'], load_dict['auc_std'])\n"
   ]
  },
  {
   "cell_type": "markdown",
   "id": "e1a36e6e-0fd8-48b9-af46-1d2e1f018768",
   "metadata": {},
   "source": [
    "## GIN"
   ]
  },
  {
   "cell_type": "code",
   "execution_count": 97,
   "id": "27037d2f-4b19-4989-9f37-4a1c98d6f129",
   "metadata": {},
   "outputs": [
    {
     "name": "stdout",
     "output_type": "stream",
     "text": [
      "=========================== Validation ============================\n",
      "0.7489 0.1447\n",
      "=========================== test ============================\n",
      "0.751 0.1459\n"
     ]
    }
   ],
   "source": [
    "import json\n",
    "import os\n",
    "print(\"=========================== Validation ============================\")\n",
    "with open(os.path.join(\"results\",\"PROTEINS\",\"gin_edge\", \"agg\", \"val\", \"best.json\"),'r') as load_f:\n",
    "    load_dict = json.load(load_f)\n",
    "    print(load_dict['auc'], load_dict['auc_std'])\n",
    "\n",
    "print(\"=========================== test ============================\")\n",
    "with open(os.path.join(\"results\",\"PROTEINS\",\"gin_edge\", \"agg\", \"test\", \"best.json\"),'r') as load_f:\n",
    "    load_dict = json.load(load_f)\n",
    "    print(load_dict['auc'], load_dict['auc_std'])\n"
   ]
  },
  {
   "cell_type": "code",
   "execution_count": null,
   "id": "8ba48831-75a1-4eda-b670-fa851f80a61b",
   "metadata": {},
   "outputs": [],
   "source": []
  }
 ],
 "metadata": {
  "kernelspec": {
   "display_name": "Graphormer",
   "language": "python",
   "name": "graphormer"
  },
  "language_info": {
   "codemirror_mode": {
    "name": "ipython",
    "version": 3
   },
   "file_extension": ".py",
   "mimetype": "text/x-python",
   "name": "python",
   "nbconvert_exporter": "python",
   "pygments_lexer": "ipython3",
   "version": "3.9.12"
  }
 },
 "nbformat": 4,
 "nbformat_minor": 5
}
