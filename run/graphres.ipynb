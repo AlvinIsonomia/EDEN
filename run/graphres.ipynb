{
 "cells": [
  {
   "cell_type": "markdown",
   "id": "a8d3906a-1a47-4478-b892-4e7af7784532",
   "metadata": {},
   "source": [
    "# GymPlayground\n",
    "## TODO List\n",
    "- [ ] 跑通 EDEN dataset\n",
    "    - [x] node classification\n",
    "    - [ ] edge prediction\n",
    "    - [ ] graph classification\n",
    "\n",
    "```shell\n",
    "python main.py --cfg configs/pyg/example_node.yaml --repeat 3\n",
    "```"
   ]
  },
  {
   "cell_type": "markdown",
   "id": "018af85a-fe0a-4f14-8f92-3b98afeb80f6",
   "metadata": {},
   "source": [
    "# MUTAG \n",
    "## GCN"
   ]
  },
  {
   "cell_type": "code",
   "execution_count": 64,
   "id": "162614a2-d825-4ec8-9670-353539a37c1e",
   "metadata": {},
   "outputs": [
    {
     "name": "stdout",
     "output_type": "stream",
     "text": [
      "=========================== Validation ============================\n",
      "0.7868 0.0432\n"
     ]
    },
    {
     "data": {
      "text/plain": [
       "'\\nwith open(os.path.join(\"results\",\"MUTAG\",\"gcn_graph\", \"agg\", \"test\", \"best.json\"),\\'r\\') as load_f:\\n    load_dict = json.load(load_f)\\n    print(load_dict[\\'accuracy\\'], load_dict[\\'accuracy_std\\'])\\n'"
      ]
     },
     "execution_count": 64,
     "metadata": {},
     "output_type": "execute_result"
    }
   ],
   "source": [
    "import json\n",
    "import os\n",
    "print(\"=========================== Validation ============================\")\n",
    "with open(os.path.join(\"results\",\"MUTAG\",\"gcn_graph\", \"agg\", \"val\", \"best.json\"),'r') as load_f:\n",
    "    load_dict = json.load(load_f)\n",
    "    print(load_dict['accuracy'], load_dict['accuracy_std'])\n",
    "'''\n",
    "with open(os.path.join(\"results\",\"MUTAG\",\"gcn_graph\", \"agg\", \"test\", \"best.json\"),'r') as load_f:\n",
    "    load_dict = json.load(load_f)\n",
    "    print(load_dict['accuracy'], load_dict['accuracy_std'])\n",
    "'''"
   ]
  },
  {
   "cell_type": "markdown",
   "id": "8f357f8b-56fe-4bf9-9106-fd6c5334de39",
   "metadata": {},
   "source": [
    "## SAGE"
   ]
  },
  {
   "cell_type": "code",
   "execution_count": 65,
   "id": "dbb144eb-e317-44b9-a003-c057de0f36ea",
   "metadata": {},
   "outputs": [
    {
     "name": "stdout",
     "output_type": "stream",
     "text": [
      "=========================== Validation ============================\n",
      "0.6974 0.1731\n"
     ]
    },
    {
     "data": {
      "text/plain": [
       "'\\nwith open(os.path.join(\"results\",\"MUTAG\",\"sage_graph\", \"agg\", \"test\", \"best.json\"),\\'r\\') as load_f:\\n    load_dict = json.load(load_f)\\n    print(load_dict[\\'accuracy\\'], load_dict[\\'accuracy_std\\'])\\n'"
      ]
     },
     "execution_count": 65,
     "metadata": {},
     "output_type": "execute_result"
    }
   ],
   "source": [
    "print(\"=========================== Validation ============================\")\n",
    "with open(os.path.join(\"results\",\"MUTAG\",\"sage_graph\", \"agg\", \"val\", \"best.json\"),'r') as load_f:\n",
    "    load_dict = json.load(load_f)\n",
    "    print(load_dict['accuracy'], load_dict['accuracy_std'])\n",
    "'''\n",
    "with open(os.path.join(\"results\",\"MUTAG\",\"sage_graph\", \"agg\", \"test\", \"best.json\"),'r') as load_f:\n",
    "    load_dict = json.load(load_f)\n",
    "    print(load_dict['accuracy'], load_dict['accuracy_std'])\n",
    "'''"
   ]
  },
  {
   "cell_type": "markdown",
   "id": "ebf7b161-4438-4dcc-8c77-ad2a70a5110d",
   "metadata": {},
   "source": [
    "## GAT"
   ]
  },
  {
   "cell_type": "code",
   "execution_count": 68,
   "id": "7f11fa33-7c90-42b6-9340-b36ff391a977",
   "metadata": {},
   "outputs": [
    {
     "name": "stdout",
     "output_type": "stream",
     "text": [
      "=========================== Validation ============================\n",
      "0.8763 0.0601\n"
     ]
    },
    {
     "data": {
      "text/plain": [
       "'\\nwith open(os.path.join(\"results\",\"MUTAG\",\"gat_graph\", \"agg\", \"test\", \"best.json\"),\\'r\\') as load_f:\\n    load_dict = json.load(load_f)\\n    print(load_dict[\\'accuracy\\'], load_dict[\\'accuracy_std\\'])\\n'"
      ]
     },
     "execution_count": 68,
     "metadata": {},
     "output_type": "execute_result"
    }
   ],
   "source": [
    "\n",
    "print(\"=========================== Validation ============================\")\n",
    "with open(os.path.join(\"results\",\"MUTAG\",\"gat_graph\", \"agg\", \"val\", \"best.json\"),'r') as load_f:\n",
    "    load_dict = json.load(load_f)\n",
    "    print(load_dict['accuracy'], load_dict['accuracy_std'])\n",
    "'''\n",
    "with open(os.path.join(\"results\",\"MUTAG\",\"gat_graph\", \"agg\", \"test\", \"best.json\"),'r') as load_f:\n",
    "    load_dict = json.load(load_f)\n",
    "    print(load_dict['accuracy'], load_dict['accuracy_std'])\n",
    "'''"
   ]
  },
  {
   "cell_type": "markdown",
   "id": "20cdd8d4-6d0f-4b7a-8f63-de39f8f7a426",
   "metadata": {},
   "source": [
    "## GIN"
   ]
  },
  {
   "cell_type": "code",
   "execution_count": 67,
   "id": "30148723-4e9d-4aad-897b-680a69469fae",
   "metadata": {},
   "outputs": [
    {
     "name": "stdout",
     "output_type": "stream",
     "text": [
      "=========================== Validation ============================\n",
      "0.7026 0.1316\n"
     ]
    },
    {
     "data": {
      "text/plain": [
       "'\\nwith open(os.path.join(\"results\",\"MUTAG\",\"gin_graph\", \"agg\", \"test\", \"best.json\"),\\'r\\') as load_f:\\n    load_dict = json.load(load_f)\\n    print(load_dict[\\'accuracy\\'], load_dict[\\'accuracy_std\\'])\\n'"
      ]
     },
     "execution_count": 67,
     "metadata": {},
     "output_type": "execute_result"
    }
   ],
   "source": [
    "print(\"=========================== Validation ============================\")\n",
    "with open(os.path.join(\"results\",\"MUTAG\",\"gin_graph\", \"agg\", \"val\", \"best.json\"),'r') as load_f:\n",
    "    load_dict = json.load(load_f)\n",
    "    print(load_dict['accuracy'], load_dict['accuracy_std'])\n",
    "'''\n",
    "with open(os.path.join(\"results\",\"MUTAG\",\"gin_graph\", \"agg\", \"test\", \"best.json\"),'r') as load_f:\n",
    "    load_dict = json.load(load_f)\n",
    "    print(load_dict['accuracy'], load_dict['accuracy_std'])\n",
    "'''"
   ]
  },
  {
   "cell_type": "markdown",
   "id": "e18193aa-1c6a-490c-ba63-a1d7fee33eec",
   "metadata": {},
   "source": [
    "# PROTEINS\n",
    "## GCN"
   ]
  },
  {
   "cell_type": "code",
   "execution_count": 89,
   "id": "38167753-29ef-471f-80d5-ec5534838046",
   "metadata": {},
   "outputs": [
    {
     "name": "stdout",
     "output_type": "stream",
     "text": [
      "=========================== Validation ============================\n",
      "0.8216 0.0247\n",
      "0.7179 0.0427\n"
     ]
    }
   ],
   "source": [
    "import json\n",
    "import os\n",
    "print(\"=========================== Validation ============================\")\n",
    "with open(os.path.join(\"results\",\"PROTEINS\",\"gcn_graph\", \"agg\", \"val\", \"best.json\"),'r') as load_f:\n",
    "    load_dict = json.load(load_f)\n",
    "    print(load_dict['accuracy'], load_dict['accuracy_std'])\n",
    "\n",
    "with open(os.path.join(\"results\",\"PROTEINS\",\"gcn_graph\", \"agg\", \"test\", \"best.json\"),'r') as load_f:\n",
    "    load_dict = json.load(load_f)\n",
    "    print(load_dict['accuracy'], load_dict['accuracy_std'])\n"
   ]
  },
  {
   "cell_type": "markdown",
   "id": "4f6560fa-8213-4130-828d-5867a6547f43",
   "metadata": {},
   "source": [
    "## SAGE"
   ]
  },
  {
   "cell_type": "code",
   "execution_count": 86,
   "id": "7ccccefb-9939-4de6-9e44-b7fc139eaf6f",
   "metadata": {},
   "outputs": [
    {
     "name": "stdout",
     "output_type": "stream",
     "text": [
      "=========================== Validation ============================\n",
      "0.7207 0.009\n",
      "0.7491 0.0074\n"
     ]
    }
   ],
   "source": [
    "import json\n",
    "import os\n",
    "print(\"=========================== Validation ============================\")\n",
    "with open(os.path.join(\"results\",\"PROTEINS\",\"sage_graph\", \"agg\", \"val\", \"best.json\"),'r') as load_f:\n",
    "    load_dict = json.load(load_f)\n",
    "    print(load_dict['accuracy'], load_dict['accuracy_std'])\n",
    "\n",
    "with open(os.path.join(\"results\",\"PROTEINS\",\"sage_graph\", \"agg\", \"test\", \"best.json\"),'r') as load_f:\n",
    "    load_dict = json.load(load_f)\n",
    "    print(load_dict['accuracy'], load_dict['accuracy_std'])\n"
   ]
  },
  {
   "cell_type": "markdown",
   "id": "b00898cb-75da-49fc-ad13-3d8b5c05211a",
   "metadata": {},
   "source": [
    "## GAT"
   ]
  },
  {
   "cell_type": "code",
   "execution_count": 87,
   "id": "bf89414e-6df1-4533-9c22-11b3558f6001",
   "metadata": {},
   "outputs": [
    {
     "name": "stdout",
     "output_type": "stream",
     "text": [
      "=========================== Validation ============================\n",
      "0.7234 0.009\n",
      "0.8009 0.0113\n"
     ]
    }
   ],
   "source": [
    "import json\n",
    "import os\n",
    "print(\"=========================== Validation ============================\")\n",
    "with open(os.path.join(\"results\",\"PROTEINS\",\"gat_graph\", \"agg\", \"val\", \"best.json\"),'r') as load_f:\n",
    "    load_dict = json.load(load_f)\n",
    "    print(load_dict['accuracy'], load_dict['accuracy_std'])\n",
    "\n",
    "with open(os.path.join(\"results\",\"PROTEINS\",\"gat_graph\", \"agg\", \"test\", \"best.json\"),'r') as load_f:\n",
    "    load_dict = json.load(load_f)\n",
    "    print(load_dict['accuracy'], load_dict['accuracy_std'])"
   ]
  },
  {
   "cell_type": "markdown",
   "id": "e1a36e6e-0fd8-48b9-af46-1d2e1f018768",
   "metadata": {},
   "source": [
    "## GIN"
   ]
  },
  {
   "cell_type": "code",
   "execution_count": 88,
   "id": "27037d2f-4b19-4989-9f37-4a1c98d6f129",
   "metadata": {},
   "outputs": [
    {
     "name": "stdout",
     "output_type": "stream",
     "text": [
      "=========================== Validation ============================\n",
      "0.7207 0.0175\n",
      "0.6714 0.0311\n"
     ]
    }
   ],
   "source": [
    "import json\n",
    "import os\n",
    "print(\"=========================== Validation ============================\")\n",
    "with open(os.path.join(\"results\",\"PROTEINS\",\"gin_graph\", \"agg\", \"val\", \"best.json\"),'r') as load_f:\n",
    "    load_dict = json.load(load_f)\n",
    "    print(load_dict['accuracy'], load_dict['accuracy_std'])\n",
    "\n",
    "with open(os.path.join(\"results\",\"PROTEINS\",\"gin_graph\", \"agg\", \"test\", \"best.json\"),'r') as load_f:\n",
    "    load_dict = json.load(load_f)\n",
    "    print(load_dict['accuracy'], load_dict['accuracy_std'])\n"
   ]
  },
  {
   "cell_type": "code",
   "execution_count": null,
   "id": "8ba48831-75a1-4eda-b670-fa851f80a61b",
   "metadata": {},
   "outputs": [],
   "source": []
  }
 ],
 "metadata": {
  "kernelspec": {
   "display_name": "Graphormer",
   "language": "python",
   "name": "graphormer"
  },
  "language_info": {
   "codemirror_mode": {
    "name": "ipython",
    "version": 3
   },
   "file_extension": ".py",
   "mimetype": "text/x-python",
   "name": "python",
   "nbconvert_exporter": "python",
   "pygments_lexer": "ipython3",
   "version": "3.9.12"
  }
 },
 "nbformat": 4,
 "nbformat_minor": 5
}
